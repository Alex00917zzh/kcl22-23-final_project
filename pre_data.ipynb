{
 "cells": [
  {
   "cell_type": "code",
   "execution_count": 1,
   "id": "0dd77913",
   "metadata": {},
   "outputs": [],
   "source": [
    "import pandas as pd"
   ]
  },
  {
   "cell_type": "code",
   "execution_count": 2,
   "id": "950441be",
   "metadata": {},
   "outputs": [
    {
     "data": {
      "text/html": [
       "<div>\n",
       "<style scoped>\n",
       "    .dataframe tbody tr th:only-of-type {\n",
       "        vertical-align: middle;\n",
       "    }\n",
       "\n",
       "    .dataframe tbody tr th {\n",
       "        vertical-align: top;\n",
       "    }\n",
       "\n",
       "    .dataframe thead th {\n",
       "        text-align: right;\n",
       "    }\n",
       "</style>\n",
       "<table border=\"1\" class=\"dataframe\">\n",
       "  <thead>\n",
       "    <tr style=\"text-align: right;\">\n",
       "      <th></th>\n",
       "      <th>DrugBank ID</th>\n",
       "      <th>Name</th>\n",
       "      <th>Type</th>\n",
       "      <th>UniProt ID</th>\n",
       "      <th>UniProt Name</th>\n",
       "    </tr>\n",
       "  </thead>\n",
       "  <tbody>\n",
       "    <tr>\n",
       "      <th>0</th>\n",
       "      <td>DB00001</td>\n",
       "      <td>Lepirudin</td>\n",
       "      <td>BiotechDrug</td>\n",
       "      <td>P00734</td>\n",
       "      <td>Prothrombin</td>\n",
       "    </tr>\n",
       "    <tr>\n",
       "      <th>1</th>\n",
       "      <td>DB00002</td>\n",
       "      <td>Cetuximab</td>\n",
       "      <td>BiotechDrug</td>\n",
       "      <td>P00533</td>\n",
       "      <td>Epidermal growth factor receptor</td>\n",
       "    </tr>\n",
       "    <tr>\n",
       "      <th>2</th>\n",
       "      <td>DB00002</td>\n",
       "      <td>Cetuximab</td>\n",
       "      <td>BiotechDrug</td>\n",
       "      <td>O75015</td>\n",
       "      <td>Low affinity immunoglobulin gamma Fc region re...</td>\n",
       "    </tr>\n",
       "    <tr>\n",
       "      <th>3</th>\n",
       "      <td>DB00002</td>\n",
       "      <td>Cetuximab</td>\n",
       "      <td>BiotechDrug</td>\n",
       "      <td>P00736</td>\n",
       "      <td>Complement C1r subcomponent</td>\n",
       "    </tr>\n",
       "    <tr>\n",
       "      <th>4</th>\n",
       "      <td>DB00002</td>\n",
       "      <td>Cetuximab</td>\n",
       "      <td>BiotechDrug</td>\n",
       "      <td>P02745</td>\n",
       "      <td>Complement C1q subcomponent subunit A</td>\n",
       "    </tr>\n",
       "    <tr>\n",
       "      <th>5</th>\n",
       "      <td>DB00002</td>\n",
       "      <td>Cetuximab</td>\n",
       "      <td>BiotechDrug</td>\n",
       "      <td>P02746</td>\n",
       "      <td>Complement C1q subcomponent subunit B</td>\n",
       "    </tr>\n",
       "    <tr>\n",
       "      <th>6</th>\n",
       "      <td>DB00002</td>\n",
       "      <td>Cetuximab</td>\n",
       "      <td>BiotechDrug</td>\n",
       "      <td>P02747</td>\n",
       "      <td>Complement C1q subcomponent subunit C</td>\n",
       "    </tr>\n",
       "    <tr>\n",
       "      <th>7</th>\n",
       "      <td>DB00002</td>\n",
       "      <td>Cetuximab</td>\n",
       "      <td>BiotechDrug</td>\n",
       "      <td>P08637</td>\n",
       "      <td>Low affinity immunoglobulin gamma Fc region re...</td>\n",
       "    </tr>\n",
       "    <tr>\n",
       "      <th>8</th>\n",
       "      <td>DB00002</td>\n",
       "      <td>Cetuximab</td>\n",
       "      <td>BiotechDrug</td>\n",
       "      <td>P09871</td>\n",
       "      <td>Complement C1s subcomponent</td>\n",
       "    </tr>\n",
       "    <tr>\n",
       "      <th>9</th>\n",
       "      <td>DB00002</td>\n",
       "      <td>Cetuximab</td>\n",
       "      <td>BiotechDrug</td>\n",
       "      <td>P12314</td>\n",
       "      <td>High affinity immunoglobulin gamma Fc receptor I</td>\n",
       "    </tr>\n",
       "  </tbody>\n",
       "</table>\n",
       "</div>"
      ],
      "text/plain": [
       "  DrugBank ID       Name         Type UniProt ID  \\\n",
       "0     DB00001  Lepirudin  BiotechDrug     P00734   \n",
       "1     DB00002  Cetuximab  BiotechDrug     P00533   \n",
       "2     DB00002  Cetuximab  BiotechDrug     O75015   \n",
       "3     DB00002  Cetuximab  BiotechDrug     P00736   \n",
       "4     DB00002  Cetuximab  BiotechDrug     P02745   \n",
       "5     DB00002  Cetuximab  BiotechDrug     P02746   \n",
       "6     DB00002  Cetuximab  BiotechDrug     P02747   \n",
       "7     DB00002  Cetuximab  BiotechDrug     P08637   \n",
       "8     DB00002  Cetuximab  BiotechDrug     P09871   \n",
       "9     DB00002  Cetuximab  BiotechDrug     P12314   \n",
       "\n",
       "                                        UniProt Name  \n",
       "0                                        Prothrombin  \n",
       "1                   Epidermal growth factor receptor  \n",
       "2  Low affinity immunoglobulin gamma Fc region re...  \n",
       "3                        Complement C1r subcomponent  \n",
       "4              Complement C1q subcomponent subunit A  \n",
       "5              Complement C1q subcomponent subunit B  \n",
       "6              Complement C1q subcomponent subunit C  \n",
       "7  Low affinity immunoglobulin gamma Fc region re...  \n",
       "8                        Complement C1s subcomponent  \n",
       "9   High affinity immunoglobulin gamma Fc receptor I  "
      ]
     },
     "execution_count": 2,
     "metadata": {},
     "output_type": "execute_result"
    }
   ],
   "source": [
    "##history validation\n",
    "uniprot_16=pd.read_csv(\"uniprot_links_2.csv\",encoding='utf-8')##from drugbank database\n",
    "uniprot_16.head(10)"
   ]
  },
  {
   "cell_type": "code",
   "execution_count": 3,
   "id": "4fa01782",
   "metadata": {},
   "outputs": [],
   "source": [
    "unip_db_16=uniprot_16[[\"DrugBank ID\",\"UniProt ID\"]].copy()##creat a new dataframe to save them.\n",
    "unip_db_16.columns=(\"Source node name\",\"Target node name\")\n",
    "new_columns =['Source node type',\"Relationship type\",\"Target node type\"]##due to algorithm, the dataset fromats be same\n"
   ]
  },
  {
   "cell_type": "code",
   "execution_count": 4,
   "id": "a63c37d8",
   "metadata": {},
   "outputs": [],
   "source": [
    "same_value = ['DRUG','DRUG_TARGETS','TARGET']\n",
    "specific_location = 1 # location to insert the new column\n",
    "for i, column_name in enumerate(new_columns):\n",
    "    unip_db_16.insert(specific_location+i, column_name, same_value[i])"
   ]
  },
  {
   "cell_type": "code",
   "execution_count": 5,
   "id": "99543167",
   "metadata": {},
   "outputs": [
    {
     "name": "stdout",
     "output_type": "stream",
     "text": [
      "<class 'pandas.core.frame.DataFrame'>\n",
      "RangeIndex: 16027 entries, 0 to 16026\n",
      "Data columns (total 5 columns):\n",
      " #   Column             Non-Null Count  Dtype \n",
      "---  ------             --------------  ----- \n",
      " 0   Source node name   16027 non-null  object\n",
      " 1   Source node type   16027 non-null  object\n",
      " 2   Relationship type  16027 non-null  object\n",
      " 3   Target node type   16027 non-null  object\n",
      " 4   Target node name   16027 non-null  object\n",
      "dtypes: object(5)\n",
      "memory usage: 626.2+ KB\n"
     ]
    }
   ],
   "source": [
    "unip_db_16.info()"
   ]
  },
  {
   "cell_type": "code",
   "execution_count": 6,
   "id": "bf6368a5",
   "metadata": {},
   "outputs": [],
   "source": [
    "##remove the repeated data\n",
    "unip_db_16 = unip_db_16.drop_duplicates()"
   ]
  },
  {
   "cell_type": "code",
   "execution_count": 7,
   "id": "a0db61f6",
   "metadata": {},
   "outputs": [
    {
     "name": "stdout",
     "output_type": "stream",
     "text": [
      "Number of unique values in the drug: 6640\n",
      "Number of unique values in the drug-target: 4083\n"
     ]
    }
   ],
   "source": [
    "unique_count_16_sd= unip_db_16[\"Source node name\"].nunique()\n",
    "unique_count_16_tar= unip_db_16[\"Target node name\"].nunique()\n",
    "print(\"Number of unique values in the drug:\", unique_count_16_sd)\n",
    "print(\"Number of unique values in the drug-target:\", unique_count_16_tar)"
   ]
  },
  {
   "cell_type": "code",
   "execution_count": 8,
   "id": "716fe31d",
   "metadata": {},
   "outputs": [
    {
     "name": "stdout",
     "output_type": "stream",
     "text": [
      "<class 'pandas.core.frame.DataFrame'>\n",
      "Index: 15840 entries, 0 to 16026\n",
      "Data columns (total 5 columns):\n",
      " #   Column             Non-Null Count  Dtype \n",
      "---  ------             --------------  ----- \n",
      " 0   Source node name   15840 non-null  object\n",
      " 1   Source node type   15840 non-null  object\n",
      " 2   Relationship type  15840 non-null  object\n",
      " 3   Target node type   15840 non-null  object\n",
      " 4   Target node name   15840 non-null  object\n",
      "dtypes: object(5)\n",
      "memory usage: 742.5+ KB\n"
     ]
    }
   ],
   "source": [
    "unip_db_16.info()\n",
    "# Export the final dataframe as a CSV file\n",
    "unip_db_16.to_csv('drug_uniprot_16.csv', index=False)"
   ]
  },
  {
   "cell_type": "code",
   "execution_count": 9,
   "id": "46ba023d",
   "metadata": {},
   "outputs": [],
   "source": [
    "##read the data\n",
    "uniprot=pd.read_csv(\"uniprot_links.csv\",encoding='utf-8')##from drugbank database"
   ]
  },
  {
   "cell_type": "code",
   "execution_count": 10,
   "id": "6917a3de",
   "metadata": {
    "scrolled": true
   },
   "outputs": [
    {
     "data": {
      "text/html": [
       "<div>\n",
       "<style scoped>\n",
       "    .dataframe tbody tr th:only-of-type {\n",
       "        vertical-align: middle;\n",
       "    }\n",
       "\n",
       "    .dataframe tbody tr th {\n",
       "        vertical-align: top;\n",
       "    }\n",
       "\n",
       "    .dataframe thead th {\n",
       "        text-align: right;\n",
       "    }\n",
       "</style>\n",
       "<table border=\"1\" class=\"dataframe\">\n",
       "  <thead>\n",
       "    <tr style=\"text-align: right;\">\n",
       "      <th></th>\n",
       "      <th>DrugBank ID</th>\n",
       "      <th>Name</th>\n",
       "      <th>Type</th>\n",
       "      <th>UniProt ID</th>\n",
       "      <th>UniProt Name</th>\n",
       "    </tr>\n",
       "  </thead>\n",
       "  <tbody>\n",
       "    <tr>\n",
       "      <th>0</th>\n",
       "      <td>DB00001</td>\n",
       "      <td>Lepirudin</td>\n",
       "      <td>BiotechDrug</td>\n",
       "      <td>P00734</td>\n",
       "      <td>Prothrombin</td>\n",
       "    </tr>\n",
       "    <tr>\n",
       "      <th>1</th>\n",
       "      <td>DB00002</td>\n",
       "      <td>Cetuximab</td>\n",
       "      <td>BiotechDrug</td>\n",
       "      <td>P00533</td>\n",
       "      <td>Epidermal growth factor receptor</td>\n",
       "    </tr>\n",
       "    <tr>\n",
       "      <th>2</th>\n",
       "      <td>DB00002</td>\n",
       "      <td>Cetuximab</td>\n",
       "      <td>BiotechDrug</td>\n",
       "      <td>O75015</td>\n",
       "      <td>Low affinity immunoglobulin gamma Fc region re...</td>\n",
       "    </tr>\n",
       "    <tr>\n",
       "      <th>3</th>\n",
       "      <td>DB00002</td>\n",
       "      <td>Cetuximab</td>\n",
       "      <td>BiotechDrug</td>\n",
       "      <td>P02745</td>\n",
       "      <td>Complement C1q subcomponent subunit A</td>\n",
       "    </tr>\n",
       "    <tr>\n",
       "      <th>4</th>\n",
       "      <td>DB00002</td>\n",
       "      <td>Cetuximab</td>\n",
       "      <td>BiotechDrug</td>\n",
       "      <td>P02746</td>\n",
       "      <td>Complement C1q subcomponent subunit B</td>\n",
       "    </tr>\n",
       "    <tr>\n",
       "      <th>5</th>\n",
       "      <td>DB00002</td>\n",
       "      <td>Cetuximab</td>\n",
       "      <td>BiotechDrug</td>\n",
       "      <td>P02747</td>\n",
       "      <td>Complement C1q subcomponent subunit C</td>\n",
       "    </tr>\n",
       "    <tr>\n",
       "      <th>6</th>\n",
       "      <td>DB00002</td>\n",
       "      <td>Cetuximab</td>\n",
       "      <td>BiotechDrug</td>\n",
       "      <td>P08637</td>\n",
       "      <td>Low affinity immunoglobulin gamma Fc region re...</td>\n",
       "    </tr>\n",
       "    <tr>\n",
       "      <th>7</th>\n",
       "      <td>DB00002</td>\n",
       "      <td>Cetuximab</td>\n",
       "      <td>BiotechDrug</td>\n",
       "      <td>P12314</td>\n",
       "      <td>High affinity immunoglobulin gamma Fc receptor I</td>\n",
       "    </tr>\n",
       "    <tr>\n",
       "      <th>8</th>\n",
       "      <td>DB00002</td>\n",
       "      <td>Cetuximab</td>\n",
       "      <td>BiotechDrug</td>\n",
       "      <td>P12318</td>\n",
       "      <td>Low affinity immunoglobulin gamma Fc region re...</td>\n",
       "    </tr>\n",
       "    <tr>\n",
       "      <th>9</th>\n",
       "      <td>DB00004</td>\n",
       "      <td>Denileukin diftitox</td>\n",
       "      <td>BiotechDrug</td>\n",
       "      <td>P01589</td>\n",
       "      <td>Interleukin-2 receptor subunit alpha</td>\n",
       "    </tr>\n",
       "  </tbody>\n",
       "</table>\n",
       "</div>"
      ],
      "text/plain": [
       "  DrugBank ID                 Name         Type UniProt ID  \\\n",
       "0     DB00001            Lepirudin  BiotechDrug     P00734   \n",
       "1     DB00002            Cetuximab  BiotechDrug     P00533   \n",
       "2     DB00002            Cetuximab  BiotechDrug     O75015   \n",
       "3     DB00002            Cetuximab  BiotechDrug     P02745   \n",
       "4     DB00002            Cetuximab  BiotechDrug     P02746   \n",
       "5     DB00002            Cetuximab  BiotechDrug     P02747   \n",
       "6     DB00002            Cetuximab  BiotechDrug     P08637   \n",
       "7     DB00002            Cetuximab  BiotechDrug     P12314   \n",
       "8     DB00002            Cetuximab  BiotechDrug     P12318   \n",
       "9     DB00004  Denileukin diftitox  BiotechDrug     P01589   \n",
       "\n",
       "                                        UniProt Name  \n",
       "0                                        Prothrombin  \n",
       "1                   Epidermal growth factor receptor  \n",
       "2  Low affinity immunoglobulin gamma Fc region re...  \n",
       "3              Complement C1q subcomponent subunit A  \n",
       "4              Complement C1q subcomponent subunit B  \n",
       "5              Complement C1q subcomponent subunit C  \n",
       "6  Low affinity immunoglobulin gamma Fc region re...  \n",
       "7   High affinity immunoglobulin gamma Fc receptor I  \n",
       "8  Low affinity immunoglobulin gamma Fc region re...  \n",
       "9               Interleukin-2 receptor subunit alpha  "
      ]
     },
     "execution_count": 10,
     "metadata": {},
     "output_type": "execute_result"
    }
   ],
   "source": [
    "uniprot.head(10)"
   ]
  },
  {
   "cell_type": "code",
   "execution_count": 11,
   "id": "19382b38",
   "metadata": {},
   "outputs": [],
   "source": [
    "unip_db=uniprot[[\"DrugBank ID\",\"UniProt ID\"]].copy()##creat a new dataframe to save them."
   ]
  },
  {
   "cell_type": "code",
   "execution_count": 12,
   "id": "e05d8e6f",
   "metadata": {},
   "outputs": [],
   "source": [
    "unip_db.columns=(\"Source node name\",\"Target node name\")##change the name of column"
   ]
  },
  {
   "cell_type": "code",
   "execution_count": 13,
   "id": "d5e62e30",
   "metadata": {},
   "outputs": [],
   "source": [
    "##due to algorithm, the dataset fromats be same\n",
    "##add some columns\n",
    "new_columns =['Source node type',\"Relationship type\",\"Target node type\"]\n",
    "same_value = ['DRUG','DRUG_TARGETS','TARGET']\n",
    "specific_location = 1 # location to insert the new column\n",
    "for i, column_name in enumerate(new_columns):\n",
    "    unip_db.insert(specific_location+i, column_name, same_value[i])"
   ]
  },
  {
   "cell_type": "code",
   "execution_count": 14,
   "id": "14252d28",
   "metadata": {},
   "outputs": [
    {
     "name": "stdout",
     "output_type": "stream",
     "text": [
      "<class 'pandas.core.frame.DataFrame'>\n",
      "RangeIndex: 22303 entries, 0 to 22302\n",
      "Data columns (total 5 columns):\n",
      " #   Column             Non-Null Count  Dtype \n",
      "---  ------             --------------  ----- \n",
      " 0   Source node name   22303 non-null  object\n",
      " 1   Source node type   22303 non-null  object\n",
      " 2   Relationship type  22303 non-null  object\n",
      " 3   Target node type   22303 non-null  object\n",
      " 4   Target node name   22303 non-null  object\n",
      "dtypes: object(5)\n",
      "memory usage: 871.3+ KB\n"
     ]
    }
   ],
   "source": [
    "unip_db.info()"
   ]
  },
  {
   "cell_type": "code",
   "execution_count": 15,
   "id": "e84be1ce",
   "metadata": {},
   "outputs": [
    {
     "name": "stdout",
     "output_type": "stream",
     "text": [
      "<class 'pandas.core.frame.DataFrame'>\n",
      "Index: 21805 entries, 0 to 22302\n",
      "Data columns (total 5 columns):\n",
      " #   Column             Non-Null Count  Dtype \n",
      "---  ------             --------------  ----- \n",
      " 0   Source node name   21805 non-null  object\n",
      " 1   Source node type   21805 non-null  object\n",
      " 2   Relationship type  21805 non-null  object\n",
      " 3   Target node type   21805 non-null  object\n",
      " 4   Target node name   21805 non-null  object\n",
      "dtypes: object(5)\n",
      "memory usage: 1022.1+ KB\n"
     ]
    }
   ],
   "source": [
    "##remove the repeated data\n",
    "unip_db = unip_db.drop_duplicates()\n",
    "unip_db.info()"
   ]
  },
  {
   "cell_type": "code",
   "execution_count": 16,
   "id": "a7875472",
   "metadata": {},
   "outputs": [
    {
     "name": "stdout",
     "output_type": "stream",
     "text": [
      "Number of unique values in the drug: 7756\n",
      "Number of unique values in the drug-target: 4916\n"
     ]
    }
   ],
   "source": [
    "#check the numble of source node and target node\n",
    "unique_count_sd= unip_db[\"Source node name\"].nunique()\n",
    "unique_count_tar= unip_db[\"Target node name\"].nunique()\n",
    "print(\"Number of unique values in the drug:\", unique_count_sd)\n",
    "print(\"Number of unique values in the drug-target:\", unique_count_tar)"
   ]
  },
  {
   "cell_type": "code",
   "execution_count": 17,
   "id": "4307cb3f",
   "metadata": {},
   "outputs": [
    {
     "data": {
      "text/html": [
       "<div>\n",
       "<style scoped>\n",
       "    .dataframe tbody tr th:only-of-type {\n",
       "        vertical-align: middle;\n",
       "    }\n",
       "\n",
       "    .dataframe tbody tr th {\n",
       "        vertical-align: top;\n",
       "    }\n",
       "\n",
       "    .dataframe thead th {\n",
       "        text-align: right;\n",
       "    }\n",
       "</style>\n",
       "<table border=\"1\" class=\"dataframe\">\n",
       "  <thead>\n",
       "    <tr style=\"text-align: right;\">\n",
       "      <th></th>\n",
       "      <th>Source node name</th>\n",
       "      <th>Source node type</th>\n",
       "      <th>Relationship type</th>\n",
       "      <th>Target node type</th>\n",
       "      <th>Target node name</th>\n",
       "    </tr>\n",
       "  </thead>\n",
       "  <tbody>\n",
       "    <tr>\n",
       "      <th>0</th>\n",
       "      <td>DB00001</td>\n",
       "      <td>DRUG</td>\n",
       "      <td>DRUG_TARGETS</td>\n",
       "      <td>TARGET</td>\n",
       "      <td>P00734</td>\n",
       "    </tr>\n",
       "    <tr>\n",
       "      <th>1</th>\n",
       "      <td>DB00002</td>\n",
       "      <td>DRUG</td>\n",
       "      <td>DRUG_TARGETS</td>\n",
       "      <td>TARGET</td>\n",
       "      <td>P00533</td>\n",
       "    </tr>\n",
       "    <tr>\n",
       "      <th>2</th>\n",
       "      <td>DB00002</td>\n",
       "      <td>DRUG</td>\n",
       "      <td>DRUG_TARGETS</td>\n",
       "      <td>TARGET</td>\n",
       "      <td>O75015</td>\n",
       "    </tr>\n",
       "    <tr>\n",
       "      <th>3</th>\n",
       "      <td>DB00002</td>\n",
       "      <td>DRUG</td>\n",
       "      <td>DRUG_TARGETS</td>\n",
       "      <td>TARGET</td>\n",
       "      <td>P02745</td>\n",
       "    </tr>\n",
       "    <tr>\n",
       "      <th>4</th>\n",
       "      <td>DB00002</td>\n",
       "      <td>DRUG</td>\n",
       "      <td>DRUG_TARGETS</td>\n",
       "      <td>TARGET</td>\n",
       "      <td>P02746</td>\n",
       "    </tr>\n",
       "  </tbody>\n",
       "</table>\n",
       "</div>"
      ],
      "text/plain": [
       "  Source node name Source node type Relationship type Target node type  \\\n",
       "0          DB00001             DRUG      DRUG_TARGETS           TARGET   \n",
       "1          DB00002             DRUG      DRUG_TARGETS           TARGET   \n",
       "2          DB00002             DRUG      DRUG_TARGETS           TARGET   \n",
       "3          DB00002             DRUG      DRUG_TARGETS           TARGET   \n",
       "4          DB00002             DRUG      DRUG_TARGETS           TARGET   \n",
       "\n",
       "  Target node name  \n",
       "0           P00734  \n",
       "1           P00533  \n",
       "2           O75015  \n",
       "3           P02745  \n",
       "4           P02746  "
      ]
     },
     "execution_count": 17,
     "metadata": {},
     "output_type": "execute_result"
    }
   ],
   "source": [
    "unip_db.head()"
   ]
  },
  {
   "cell_type": "code",
   "execution_count": 18,
   "id": "1958cf94",
   "metadata": {},
   "outputs": [],
   "source": [
    "# Export the final dataframe as a CSV file\n",
    "unip_db.to_csv('drug_uniprot.csv', index=False)"
   ]
  },
  {
   "cell_type": "code",
   "execution_count": 19,
   "id": "155539d0",
   "metadata": {},
   "outputs": [],
   "source": [
    "umls=pd.read_csv(\"meddra_all_indications.tsv\",delimiter='\\t',encoding='utf-8',header=None)\n",
    "##from Side Effect Resource\n",
    "##No information about Drugbank ID"
   ]
  },
  {
   "cell_type": "code",
   "execution_count": 20,
   "id": "ddb3bb4f",
   "metadata": {},
   "outputs": [
    {
     "data": {
      "text/html": [
       "<div>\n",
       "<style scoped>\n",
       "    .dataframe tbody tr th:only-of-type {\n",
       "        vertical-align: middle;\n",
       "    }\n",
       "\n",
       "    .dataframe tbody tr th {\n",
       "        vertical-align: top;\n",
       "    }\n",
       "\n",
       "    .dataframe thead th {\n",
       "        text-align: right;\n",
       "    }\n",
       "</style>\n",
       "<table border=\"1\" class=\"dataframe\">\n",
       "  <thead>\n",
       "    <tr style=\"text-align: right;\">\n",
       "      <th></th>\n",
       "      <th>0</th>\n",
       "      <th>1</th>\n",
       "      <th>2</th>\n",
       "      <th>3</th>\n",
       "      <th>4</th>\n",
       "      <th>5</th>\n",
       "      <th>6</th>\n",
       "    </tr>\n",
       "  </thead>\n",
       "  <tbody>\n",
       "    <tr>\n",
       "      <th>0</th>\n",
       "      <td>CID100000085</td>\n",
       "      <td>C0015544</td>\n",
       "      <td>text_mention</td>\n",
       "      <td>Failure to Thrive</td>\n",
       "      <td>LLT</td>\n",
       "      <td>C0015544</td>\n",
       "      <td>Failure to thrive</td>\n",
       "    </tr>\n",
       "    <tr>\n",
       "      <th>1</th>\n",
       "      <td>CID100000085</td>\n",
       "      <td>C0015544</td>\n",
       "      <td>text_mention</td>\n",
       "      <td>Failure to Thrive</td>\n",
       "      <td>PT</td>\n",
       "      <td>C0015544</td>\n",
       "      <td>Failure to thrive</td>\n",
       "    </tr>\n",
       "    <tr>\n",
       "      <th>2</th>\n",
       "      <td>CID100000085</td>\n",
       "      <td>C0020615</td>\n",
       "      <td>text_mention</td>\n",
       "      <td>Hypoglycemia</td>\n",
       "      <td>LLT</td>\n",
       "      <td>C0020615</td>\n",
       "      <td>Hypoglycaemia</td>\n",
       "    </tr>\n",
       "    <tr>\n",
       "      <th>3</th>\n",
       "      <td>CID100000085</td>\n",
       "      <td>C0020615</td>\n",
       "      <td>text_mention</td>\n",
       "      <td>Hypoglycemia</td>\n",
       "      <td>PT</td>\n",
       "      <td>C0020615</td>\n",
       "      <td>Hypoglycaemia</td>\n",
       "    </tr>\n",
       "    <tr>\n",
       "      <th>4</th>\n",
       "      <td>CID100000085</td>\n",
       "      <td>C0022661</td>\n",
       "      <td>NLP_indication</td>\n",
       "      <td>Kidney Failure, Chronic</td>\n",
       "      <td>LLT</td>\n",
       "      <td>C0022661</td>\n",
       "      <td>Renal failure chronic</td>\n",
       "    </tr>\n",
       "  </tbody>\n",
       "</table>\n",
       "</div>"
      ],
      "text/plain": [
       "              0         1               2                        3    4  \\\n",
       "0  CID100000085  C0015544    text_mention        Failure to Thrive  LLT   \n",
       "1  CID100000085  C0015544    text_mention        Failure to Thrive   PT   \n",
       "2  CID100000085  C0020615    text_mention             Hypoglycemia  LLT   \n",
       "3  CID100000085  C0020615    text_mention             Hypoglycemia   PT   \n",
       "4  CID100000085  C0022661  NLP_indication  Kidney Failure, Chronic  LLT   \n",
       "\n",
       "          5                      6  \n",
       "0  C0015544      Failure to thrive  \n",
       "1  C0015544      Failure to thrive  \n",
       "2  C0020615          Hypoglycaemia  \n",
       "3  C0020615          Hypoglycaemia  \n",
       "4  C0022661  Renal failure chronic  "
      ]
     },
     "execution_count": 20,
     "metadata": {},
     "output_type": "execute_result"
    }
   ],
   "source": [
    "umls.head()"
   ]
  },
  {
   "cell_type": "code",
   "execution_count": 21,
   "id": "d48e3bd1",
   "metadata": {},
   "outputs": [],
   "source": [
    "##extract the sepicific columns\n",
    "cid_umls=umls.iloc[:,[0,1]].copy()"
   ]
  },
  {
   "cell_type": "code",
   "execution_count": 22,
   "id": "5ae73b22",
   "metadata": {},
   "outputs": [
    {
     "data": {
      "text/html": [
       "<div>\n",
       "<style scoped>\n",
       "    .dataframe tbody tr th:only-of-type {\n",
       "        vertical-align: middle;\n",
       "    }\n",
       "\n",
       "    .dataframe tbody tr th {\n",
       "        vertical-align: top;\n",
       "    }\n",
       "\n",
       "    .dataframe thead th {\n",
       "        text-align: right;\n",
       "    }\n",
       "</style>\n",
       "<table border=\"1\" class=\"dataframe\">\n",
       "  <thead>\n",
       "    <tr style=\"text-align: right;\">\n",
       "      <th></th>\n",
       "      <th>0</th>\n",
       "      <th>1</th>\n",
       "    </tr>\n",
       "  </thead>\n",
       "  <tbody>\n",
       "    <tr>\n",
       "      <th>0</th>\n",
       "      <td>CID100000085</td>\n",
       "      <td>C0015544</td>\n",
       "    </tr>\n",
       "    <tr>\n",
       "      <th>1</th>\n",
       "      <td>CID100000085</td>\n",
       "      <td>C0015544</td>\n",
       "    </tr>\n",
       "    <tr>\n",
       "      <th>2</th>\n",
       "      <td>CID100000085</td>\n",
       "      <td>C0020615</td>\n",
       "    </tr>\n",
       "    <tr>\n",
       "      <th>3</th>\n",
       "      <td>CID100000085</td>\n",
       "      <td>C0020615</td>\n",
       "    </tr>\n",
       "    <tr>\n",
       "      <th>4</th>\n",
       "      <td>CID100000085</td>\n",
       "      <td>C0022661</td>\n",
       "    </tr>\n",
       "  </tbody>\n",
       "</table>\n",
       "</div>"
      ],
      "text/plain": [
       "              0         1\n",
       "0  CID100000085  C0015544\n",
       "1  CID100000085  C0015544\n",
       "2  CID100000085  C0020615\n",
       "3  CID100000085  C0020615\n",
       "4  CID100000085  C0022661"
      ]
     },
     "execution_count": 22,
     "metadata": {},
     "output_type": "execute_result"
    }
   ],
   "source": [
    "cid_umls.head()"
   ]
  },
  {
   "cell_type": "code",
   "execution_count": 23,
   "id": "cde76288",
   "metadata": {},
   "outputs": [],
   "source": [
    "##create the name of columns\n",
    "cid_umls.columns=(\"CID\",\"UMLS\")"
   ]
  },
  {
   "cell_type": "code",
   "execution_count": 24,
   "id": "9f746e92",
   "metadata": {},
   "outputs": [
    {
     "data": {
      "text/html": [
       "<div>\n",
       "<style scoped>\n",
       "    .dataframe tbody tr th:only-of-type {\n",
       "        vertical-align: middle;\n",
       "    }\n",
       "\n",
       "    .dataframe tbody tr th {\n",
       "        vertical-align: top;\n",
       "    }\n",
       "\n",
       "    .dataframe thead th {\n",
       "        text-align: right;\n",
       "    }\n",
       "</style>\n",
       "<table border=\"1\" class=\"dataframe\">\n",
       "  <thead>\n",
       "    <tr style=\"text-align: right;\">\n",
       "      <th></th>\n",
       "      <th>CID</th>\n",
       "      <th>UMLS</th>\n",
       "    </tr>\n",
       "  </thead>\n",
       "  <tbody>\n",
       "    <tr>\n",
       "      <th>0</th>\n",
       "      <td>CID100000085</td>\n",
       "      <td>C0015544</td>\n",
       "    </tr>\n",
       "    <tr>\n",
       "      <th>1</th>\n",
       "      <td>CID100000085</td>\n",
       "      <td>C0015544</td>\n",
       "    </tr>\n",
       "    <tr>\n",
       "      <th>2</th>\n",
       "      <td>CID100000085</td>\n",
       "      <td>C0020615</td>\n",
       "    </tr>\n",
       "    <tr>\n",
       "      <th>3</th>\n",
       "      <td>CID100000085</td>\n",
       "      <td>C0020615</td>\n",
       "    </tr>\n",
       "    <tr>\n",
       "      <th>4</th>\n",
       "      <td>CID100000085</td>\n",
       "      <td>C0022661</td>\n",
       "    </tr>\n",
       "  </tbody>\n",
       "</table>\n",
       "</div>"
      ],
      "text/plain": [
       "            CID      UMLS\n",
       "0  CID100000085  C0015544\n",
       "1  CID100000085  C0015544\n",
       "2  CID100000085  C0020615\n",
       "3  CID100000085  C0020615\n",
       "4  CID100000085  C0022661"
      ]
     },
     "execution_count": 24,
     "metadata": {},
     "output_type": "execute_result"
    }
   ],
   "source": [
    "cid_umls.head()"
   ]
  },
  {
   "cell_type": "code",
   "execution_count": 25,
   "id": "f19c5f21",
   "metadata": {},
   "outputs": [],
   "source": [
    "cid_umls[\"CID\"]=cid_umls['CID'].str.slice(4).astype(float)\n",
    "##However, their data formats are different so I have corrected them to the same format.\n",
    "##ALL data about CID are corrected into numeric without First four bytes（CID1）"
   ]
  },
  {
   "cell_type": "code",
   "execution_count": 26,
   "id": "eafb7d1c",
   "metadata": {},
   "outputs": [
    {
     "data": {
      "text/html": [
       "<div>\n",
       "<style scoped>\n",
       "    .dataframe tbody tr th:only-of-type {\n",
       "        vertical-align: middle;\n",
       "    }\n",
       "\n",
       "    .dataframe tbody tr th {\n",
       "        vertical-align: top;\n",
       "    }\n",
       "\n",
       "    .dataframe thead th {\n",
       "        text-align: right;\n",
       "    }\n",
       "</style>\n",
       "<table border=\"1\" class=\"dataframe\">\n",
       "  <thead>\n",
       "    <tr style=\"text-align: right;\">\n",
       "      <th></th>\n",
       "      <th>CID</th>\n",
       "      <th>UMLS</th>\n",
       "    </tr>\n",
       "  </thead>\n",
       "  <tbody>\n",
       "    <tr>\n",
       "      <th>0</th>\n",
       "      <td>85.0</td>\n",
       "      <td>C0015544</td>\n",
       "    </tr>\n",
       "    <tr>\n",
       "      <th>1</th>\n",
       "      <td>85.0</td>\n",
       "      <td>C0015544</td>\n",
       "    </tr>\n",
       "    <tr>\n",
       "      <th>2</th>\n",
       "      <td>85.0</td>\n",
       "      <td>C0020615</td>\n",
       "    </tr>\n",
       "    <tr>\n",
       "      <th>3</th>\n",
       "      <td>85.0</td>\n",
       "      <td>C0020615</td>\n",
       "    </tr>\n",
       "    <tr>\n",
       "      <th>4</th>\n",
       "      <td>85.0</td>\n",
       "      <td>C0022661</td>\n",
       "    </tr>\n",
       "  </tbody>\n",
       "</table>\n",
       "</div>"
      ],
      "text/plain": [
       "    CID      UMLS\n",
       "0  85.0  C0015544\n",
       "1  85.0  C0015544\n",
       "2  85.0  C0020615\n",
       "3  85.0  C0020615\n",
       "4  85.0  C0022661"
      ]
     },
     "execution_count": 26,
     "metadata": {},
     "output_type": "execute_result"
    }
   ],
   "source": [
    "cid_umls.head()"
   ]
  },
  {
   "cell_type": "code",
   "execution_count": 27,
   "id": "91ae6769",
   "metadata": {},
   "outputs": [],
   "source": [
    "cid_dbid=pd.read_csv(\"structure_links.csv\")\n",
    "##use the dataset to map UMLS to map Drugbank ID"
   ]
  },
  {
   "cell_type": "code",
   "execution_count": 28,
   "id": "9d4f9ba1",
   "metadata": {},
   "outputs": [
    {
     "data": {
      "text/html": [
       "<div>\n",
       "<style scoped>\n",
       "    .dataframe tbody tr th:only-of-type {\n",
       "        vertical-align: middle;\n",
       "    }\n",
       "\n",
       "    .dataframe tbody tr th {\n",
       "        vertical-align: top;\n",
       "    }\n",
       "\n",
       "    .dataframe thead th {\n",
       "        text-align: right;\n",
       "    }\n",
       "</style>\n",
       "<table border=\"1\" class=\"dataframe\">\n",
       "  <thead>\n",
       "    <tr style=\"text-align: right;\">\n",
       "      <th></th>\n",
       "      <th>DrugBank ID</th>\n",
       "      <th>Name</th>\n",
       "      <th>CAS Number</th>\n",
       "      <th>Drug Groups</th>\n",
       "      <th>InChIKey</th>\n",
       "      <th>InChI</th>\n",
       "      <th>SMILES</th>\n",
       "      <th>Formula</th>\n",
       "      <th>KEGG Compound ID</th>\n",
       "      <th>KEGG Drug ID</th>\n",
       "      <th>PubChem Compound ID</th>\n",
       "      <th>PubChem Substance ID</th>\n",
       "      <th>ChEBI ID</th>\n",
       "      <th>ChEMBL ID</th>\n",
       "      <th>HET ID</th>\n",
       "      <th>ChemSpider ID</th>\n",
       "      <th>BindingDB ID</th>\n",
       "    </tr>\n",
       "  </thead>\n",
       "  <tbody>\n",
       "    <tr>\n",
       "      <th>0</th>\n",
       "      <td>DB00006</td>\n",
       "      <td>Bivalirudin</td>\n",
       "      <td>128270-60-0</td>\n",
       "      <td>approved; investigational</td>\n",
       "      <td>OIRCOABEOLEUMC-GEJPAHFPSA-N</td>\n",
       "      <td>InChI=1S/C98H138N24O33/c1-5-52(4)82(96(153)122...</td>\n",
       "      <td>CC[C@H](C)[C@H](NC(=O)[C@H](CCC(O)=O)NC(=O)[C@...</td>\n",
       "      <td>C98H138N24O33</td>\n",
       "      <td>NaN</td>\n",
       "      <td>D03136</td>\n",
       "      <td>16129704.0</td>\n",
       "      <td>46507415.0</td>\n",
       "      <td>59173.0</td>\n",
       "      <td>CHEMBL2103749</td>\n",
       "      <td>NaN</td>\n",
       "      <td>10482069.0</td>\n",
       "      <td>50248103.0</td>\n",
       "    </tr>\n",
       "    <tr>\n",
       "      <th>1</th>\n",
       "      <td>DB00007</td>\n",
       "      <td>Leuprolide</td>\n",
       "      <td>53714-56-0</td>\n",
       "      <td>approved; investigational</td>\n",
       "      <td>GFIJNRVAKGFPGQ-LIJARHBVSA-N</td>\n",
       "      <td>InChI=1S/C59H84N16O12/c1-6-63-57(86)48-14-10-2...</td>\n",
       "      <td>CCNC(=O)[C@@H]1CCCN1C(=O)[C@H](CCCNC(N)=N)NC(=...</td>\n",
       "      <td>C59H84N16O12</td>\n",
       "      <td>C07612</td>\n",
       "      <td>D08113</td>\n",
       "      <td>NaN</td>\n",
       "      <td>46507635.0</td>\n",
       "      <td>6427.0</td>\n",
       "      <td>CHEMBL1201199</td>\n",
       "      <td>NaN</td>\n",
       "      <td>571356.0</td>\n",
       "      <td>50369395.0</td>\n",
       "    </tr>\n",
       "    <tr>\n",
       "      <th>2</th>\n",
       "      <td>DB00014</td>\n",
       "      <td>Goserelin</td>\n",
       "      <td>65807-02-5</td>\n",
       "      <td>approved</td>\n",
       "      <td>BLCLNMBMMGCOAS-URPVMXJPSA-N</td>\n",
       "      <td>InChI=1S/C59H84N18O14/c1-31(2)22-40(49(82)68-3...</td>\n",
       "      <td>CC(C)C[C@H](NC(=O)[C@@H](COC(C)(C)C)NC(=O)[C@H...</td>\n",
       "      <td>C59H84N18O14</td>\n",
       "      <td>NaN</td>\n",
       "      <td>D00573</td>\n",
       "      <td>5311128.0</td>\n",
       "      <td>46507336.0</td>\n",
       "      <td>5523.0</td>\n",
       "      <td>CHEMBL1201247</td>\n",
       "      <td>NaN</td>\n",
       "      <td>4470656.0</td>\n",
       "      <td>NaN</td>\n",
       "    </tr>\n",
       "    <tr>\n",
       "      <th>3</th>\n",
       "      <td>DB00027</td>\n",
       "      <td>Gramicidin D</td>\n",
       "      <td>1405-97-6</td>\n",
       "      <td>approved</td>\n",
       "      <td>NDAYQJDHGXTBJL-MWWSRJDJSA-N</td>\n",
       "      <td>InChI=1S/C96H135N19O16/c1-50(2)36-71(105-79(11...</td>\n",
       "      <td>CC(C)C[C@@H](NC(=O)CNC(=O)[C@@H](NC=O)C(C)C)C(...</td>\n",
       "      <td>C96H135N19O16</td>\n",
       "      <td>NaN</td>\n",
       "      <td>D04369</td>\n",
       "      <td>45267103.0</td>\n",
       "      <td>46507412.0</td>\n",
       "      <td>NaN</td>\n",
       "      <td>CHEMBL557217</td>\n",
       "      <td>NaN</td>\n",
       "      <td>24623445.0</td>\n",
       "      <td>NaN</td>\n",
       "    </tr>\n",
       "    <tr>\n",
       "      <th>4</th>\n",
       "      <td>DB00035</td>\n",
       "      <td>Desmopressin</td>\n",
       "      <td>16679-58-6</td>\n",
       "      <td>approved</td>\n",
       "      <td>NFLWUMRGJYTJIN-PNIOQBSNSA-N</td>\n",
       "      <td>InChI=1S/C46H64N14O12S2/c47-35(62)15-14-29-40(...</td>\n",
       "      <td>NC(=O)CC[C@@H]1NC(=O)[C@H](CC2=CC=CC=C2)NC(=O)...</td>\n",
       "      <td>C46H64N14O12S2</td>\n",
       "      <td>C06944</td>\n",
       "      <td>D00291</td>\n",
       "      <td>NaN</td>\n",
       "      <td>NaN</td>\n",
       "      <td>4450.0</td>\n",
       "      <td>CHEMBL1429</td>\n",
       "      <td>NaN</td>\n",
       "      <td>4470602.0</td>\n",
       "      <td>50205308.0</td>\n",
       "    </tr>\n",
       "  </tbody>\n",
       "</table>\n",
       "</div>"
      ],
      "text/plain": [
       "  DrugBank ID          Name   CAS Number                Drug Groups  \\\n",
       "0     DB00006   Bivalirudin  128270-60-0  approved; investigational   \n",
       "1     DB00007    Leuprolide   53714-56-0  approved; investigational   \n",
       "2     DB00014     Goserelin   65807-02-5                   approved   \n",
       "3     DB00027  Gramicidin D    1405-97-6                   approved   \n",
       "4     DB00035  Desmopressin   16679-58-6                   approved   \n",
       "\n",
       "                      InChIKey  \\\n",
       "0  OIRCOABEOLEUMC-GEJPAHFPSA-N   \n",
       "1  GFIJNRVAKGFPGQ-LIJARHBVSA-N   \n",
       "2  BLCLNMBMMGCOAS-URPVMXJPSA-N   \n",
       "3  NDAYQJDHGXTBJL-MWWSRJDJSA-N   \n",
       "4  NFLWUMRGJYTJIN-PNIOQBSNSA-N   \n",
       "\n",
       "                                               InChI  \\\n",
       "0  InChI=1S/C98H138N24O33/c1-5-52(4)82(96(153)122...   \n",
       "1  InChI=1S/C59H84N16O12/c1-6-63-57(86)48-14-10-2...   \n",
       "2  InChI=1S/C59H84N18O14/c1-31(2)22-40(49(82)68-3...   \n",
       "3  InChI=1S/C96H135N19O16/c1-50(2)36-71(105-79(11...   \n",
       "4  InChI=1S/C46H64N14O12S2/c47-35(62)15-14-29-40(...   \n",
       "\n",
       "                                              SMILES         Formula  \\\n",
       "0  CC[C@H](C)[C@H](NC(=O)[C@H](CCC(O)=O)NC(=O)[C@...   C98H138N24O33   \n",
       "1  CCNC(=O)[C@@H]1CCCN1C(=O)[C@H](CCCNC(N)=N)NC(=...    C59H84N16O12   \n",
       "2  CC(C)C[C@H](NC(=O)[C@@H](COC(C)(C)C)NC(=O)[C@H...    C59H84N18O14   \n",
       "3  CC(C)C[C@@H](NC(=O)CNC(=O)[C@@H](NC=O)C(C)C)C(...   C96H135N19O16   \n",
       "4  NC(=O)CC[C@@H]1NC(=O)[C@H](CC2=CC=CC=C2)NC(=O)...  C46H64N14O12S2   \n",
       "\n",
       "  KEGG Compound ID KEGG Drug ID  PubChem Compound ID  PubChem Substance ID  \\\n",
       "0              NaN       D03136           16129704.0            46507415.0   \n",
       "1           C07612       D08113                  NaN            46507635.0   \n",
       "2              NaN       D00573            5311128.0            46507336.0   \n",
       "3              NaN       D04369           45267103.0            46507412.0   \n",
       "4           C06944       D00291                  NaN                   NaN   \n",
       "\n",
       "   ChEBI ID      ChEMBL ID HET ID  ChemSpider ID  BindingDB ID  \n",
       "0   59173.0  CHEMBL2103749    NaN     10482069.0    50248103.0  \n",
       "1    6427.0  CHEMBL1201199    NaN       571356.0    50369395.0  \n",
       "2    5523.0  CHEMBL1201247    NaN      4470656.0           NaN  \n",
       "3       NaN   CHEMBL557217    NaN     24623445.0           NaN  \n",
       "4    4450.0     CHEMBL1429    NaN      4470602.0    50205308.0  "
      ]
     },
     "execution_count": 28,
     "metadata": {},
     "output_type": "execute_result"
    }
   ],
   "source": [
    "cid_dbid.head()"
   ]
  },
  {
   "cell_type": "code",
   "execution_count": 29,
   "id": "9b633bc9",
   "metadata": {},
   "outputs": [],
   "source": [
    "##create the mapping table\n",
    "mapp=cid_dbid[[\"DrugBank ID\",\"PubChem Compound ID\"]]"
   ]
  },
  {
   "cell_type": "code",
   "execution_count": 30,
   "id": "946a389c",
   "metadata": {},
   "outputs": [
    {
     "data": {
      "text/html": [
       "<div>\n",
       "<style scoped>\n",
       "    .dataframe tbody tr th:only-of-type {\n",
       "        vertical-align: middle;\n",
       "    }\n",
       "\n",
       "    .dataframe tbody tr th {\n",
       "        vertical-align: top;\n",
       "    }\n",
       "\n",
       "    .dataframe thead th {\n",
       "        text-align: right;\n",
       "    }\n",
       "</style>\n",
       "<table border=\"1\" class=\"dataframe\">\n",
       "  <thead>\n",
       "    <tr style=\"text-align: right;\">\n",
       "      <th></th>\n",
       "      <th>Drugbank ID</th>\n",
       "      <th>CID</th>\n",
       "    </tr>\n",
       "  </thead>\n",
       "  <tbody>\n",
       "    <tr>\n",
       "      <th>0</th>\n",
       "      <td>DB00006</td>\n",
       "      <td>16129704.0</td>\n",
       "    </tr>\n",
       "    <tr>\n",
       "      <th>1</th>\n",
       "      <td>DB00007</td>\n",
       "      <td>NaN</td>\n",
       "    </tr>\n",
       "    <tr>\n",
       "      <th>2</th>\n",
       "      <td>DB00014</td>\n",
       "      <td>5311128.0</td>\n",
       "    </tr>\n",
       "    <tr>\n",
       "      <th>3</th>\n",
       "      <td>DB00027</td>\n",
       "      <td>45267103.0</td>\n",
       "    </tr>\n",
       "    <tr>\n",
       "      <th>4</th>\n",
       "      <td>DB00035</td>\n",
       "      <td>NaN</td>\n",
       "    </tr>\n",
       "  </tbody>\n",
       "</table>\n",
       "</div>"
      ],
      "text/plain": [
       "  Drugbank ID         CID\n",
       "0     DB00006  16129704.0\n",
       "1     DB00007         NaN\n",
       "2     DB00014   5311128.0\n",
       "3     DB00027  45267103.0\n",
       "4     DB00035         NaN"
      ]
     },
     "execution_count": 30,
     "metadata": {},
     "output_type": "execute_result"
    }
   ],
   "source": [
    "##change the name of columns\n",
    "mapp.columns=[\"Drugbank ID\",\"CID\"]\n",
    "mapp.head()"
   ]
  },
  {
   "cell_type": "code",
   "execution_count": 31,
   "id": "4dc66d37",
   "metadata": {},
   "outputs": [],
   "source": [
    "\n",
    "\n",
    "# Merge the two dataframes on the pubchem ID column\n",
    "merged_df = pd.merge(cid_umls, mapp, on='CID')\n",
    " \n",
    "# Drop the bindingDB ID column and rename the Drugbank ID column\n",
    "final_df = merged_df.drop('CID', axis=1).rename(columns={'Drugbank ID': 'ID'})\n",
    " "
   ]
  },
  {
   "cell_type": "code",
   "execution_count": 32,
   "id": "f2a1346c",
   "metadata": {},
   "outputs": [
    {
     "data": {
      "text/html": [
       "<div>\n",
       "<style scoped>\n",
       "    .dataframe tbody tr th:only-of-type {\n",
       "        vertical-align: middle;\n",
       "    }\n",
       "\n",
       "    .dataframe tbody tr th {\n",
       "        vertical-align: top;\n",
       "    }\n",
       "\n",
       "    .dataframe thead th {\n",
       "        text-align: right;\n",
       "    }\n",
       "</style>\n",
       "<table border=\"1\" class=\"dataframe\">\n",
       "  <thead>\n",
       "    <tr style=\"text-align: right;\">\n",
       "      <th></th>\n",
       "      <th>UMLS</th>\n",
       "      <th>ID</th>\n",
       "    </tr>\n",
       "  </thead>\n",
       "  <tbody>\n",
       "    <tr>\n",
       "      <th>0</th>\n",
       "      <td>C0001768</td>\n",
       "      <td>DB02530</td>\n",
       "    </tr>\n",
       "    <tr>\n",
       "      <th>1</th>\n",
       "      <td>C0001768</td>\n",
       "      <td>DB02530</td>\n",
       "    </tr>\n",
       "    <tr>\n",
       "      <th>2</th>\n",
       "      <td>C0008049</td>\n",
       "      <td>DB02530</td>\n",
       "    </tr>\n",
       "    <tr>\n",
       "      <th>3</th>\n",
       "      <td>C0008049</td>\n",
       "      <td>DB02530</td>\n",
       "    </tr>\n",
       "    <tr>\n",
       "      <th>4</th>\n",
       "      <td>C0009447</td>\n",
       "      <td>DB02530</td>\n",
       "    </tr>\n",
       "  </tbody>\n",
       "</table>\n",
       "</div>"
      ],
      "text/plain": [
       "       UMLS       ID\n",
       "0  C0001768  DB02530\n",
       "1  C0001768  DB02530\n",
       "2  C0008049  DB02530\n",
       "3  C0008049  DB02530\n",
       "4  C0009447  DB02530"
      ]
     },
     "execution_count": 32,
     "metadata": {},
     "output_type": "execute_result"
    }
   ],
   "source": [
    "final_df.head()"
   ]
  },
  {
   "cell_type": "code",
   "execution_count": 33,
   "id": "a0ac0336",
   "metadata": {},
   "outputs": [
    {
     "name": "stdout",
     "output_type": "stream",
     "text": [
      "<class 'pandas.core.frame.DataFrame'>\n",
      "RangeIndex: 30835 entries, 0 to 30834\n",
      "Data columns (total 2 columns):\n",
      " #   Column  Non-Null Count  Dtype  \n",
      "---  ------  --------------  -----  \n",
      " 0   CID     30835 non-null  float64\n",
      " 1   UMLS    30835 non-null  object \n",
      "dtypes: float64(1), object(1)\n",
      "memory usage: 481.9+ KB\n"
     ]
    }
   ],
   "source": [
    "cid_umls.info()"
   ]
  },
  {
   "cell_type": "code",
   "execution_count": 34,
   "id": "e22086b2",
   "metadata": {},
   "outputs": [
    {
     "name": "stdout",
     "output_type": "stream",
     "text": [
      "<class 'pandas.core.frame.DataFrame'>\n",
      "RangeIndex: 12227 entries, 0 to 12226\n",
      "Data columns (total 2 columns):\n",
      " #   Column       Non-Null Count  Dtype  \n",
      "---  ------       --------------  -----  \n",
      " 0   Drugbank ID  12227 non-null  object \n",
      " 1   CID          8704 non-null   float64\n",
      "dtypes: float64(1), object(1)\n",
      "memory usage: 191.2+ KB\n"
     ]
    }
   ],
   "source": [
    "mapp.info()"
   ]
  },
  {
   "cell_type": "code",
   "execution_count": 35,
   "id": "e392e4ad",
   "metadata": {},
   "outputs": [
    {
     "name": "stdout",
     "output_type": "stream",
     "text": [
      "<class 'pandas.core.frame.DataFrame'>\n",
      "RangeIndex: 12829 entries, 0 to 12828\n",
      "Data columns (total 3 columns):\n",
      " #   Column       Non-Null Count  Dtype  \n",
      "---  ------       --------------  -----  \n",
      " 0   CID          12829 non-null  float64\n",
      " 1   UMLS         12829 non-null  object \n",
      " 2   Drugbank ID  12829 non-null  object \n",
      "dtypes: float64(1), object(2)\n",
      "memory usage: 300.8+ KB\n"
     ]
    }
   ],
   "source": [
    "merged_df.info()"
   ]
  },
  {
   "cell_type": "code",
   "execution_count": 36,
   "id": "9e061093",
   "metadata": {},
   "outputs": [],
   "source": [
    "##change the order of the columns\n",
    "new_order = ['ID', 'UMLS']\n",
    "final_df =final_df.reindex(columns=new_order)"
   ]
  },
  {
   "cell_type": "code",
   "execution_count": 37,
   "id": "ab03dbce",
   "metadata": {},
   "outputs": [
    {
     "data": {
      "text/html": [
       "<div>\n",
       "<style scoped>\n",
       "    .dataframe tbody tr th:only-of-type {\n",
       "        vertical-align: middle;\n",
       "    }\n",
       "\n",
       "    .dataframe tbody tr th {\n",
       "        vertical-align: top;\n",
       "    }\n",
       "\n",
       "    .dataframe thead th {\n",
       "        text-align: right;\n",
       "    }\n",
       "</style>\n",
       "<table border=\"1\" class=\"dataframe\">\n",
       "  <thead>\n",
       "    <tr style=\"text-align: right;\">\n",
       "      <th></th>\n",
       "      <th>ID</th>\n",
       "      <th>UMLS</th>\n",
       "    </tr>\n",
       "  </thead>\n",
       "  <tbody>\n",
       "    <tr>\n",
       "      <th>0</th>\n",
       "      <td>DB02530</td>\n",
       "      <td>C0001768</td>\n",
       "    </tr>\n",
       "    <tr>\n",
       "      <th>1</th>\n",
       "      <td>DB02530</td>\n",
       "      <td>C0001768</td>\n",
       "    </tr>\n",
       "    <tr>\n",
       "      <th>2</th>\n",
       "      <td>DB02530</td>\n",
       "      <td>C0008049</td>\n",
       "    </tr>\n",
       "    <tr>\n",
       "      <th>3</th>\n",
       "      <td>DB02530</td>\n",
       "      <td>C0008049</td>\n",
       "    </tr>\n",
       "    <tr>\n",
       "      <th>4</th>\n",
       "      <td>DB02530</td>\n",
       "      <td>C0009447</td>\n",
       "    </tr>\n",
       "  </tbody>\n",
       "</table>\n",
       "</div>"
      ],
      "text/plain": [
       "        ID      UMLS\n",
       "0  DB02530  C0001768\n",
       "1  DB02530  C0001768\n",
       "2  DB02530  C0008049\n",
       "3  DB02530  C0008049\n",
       "4  DB02530  C0009447"
      ]
     },
     "execution_count": 37,
     "metadata": {},
     "output_type": "execute_result"
    }
   ],
   "source": [
    "df_umls=final_df\n",
    "\n",
    "df_umls.head()"
   ]
  },
  {
   "cell_type": "code",
   "execution_count": 38,
   "id": "6fdaeabc",
   "metadata": {},
   "outputs": [],
   "source": [
    "##change the name of columns\n",
    "df_umls.columns=(\"Source node name\",\"Target node name\")"
   ]
  },
  {
   "cell_type": "code",
   "execution_count": 39,
   "id": "8e52e26f",
   "metadata": {},
   "outputs": [],
   "source": [
    "##due to algorithm, the dataset fromats be same\n",
    "##add some columns\n",
    "new_columns =['Source node type',\"Relationship type\",\"Target node type\"]\n",
    "same_value = ['DRUG','TREAT','DISEASE']\n",
    "specific_location = 1 # location to insert the new column\n",
    "for i, column_name in enumerate(new_columns):\n",
    "    df_umls.insert(specific_location+i, column_name, same_value[i])\n"
   ]
  },
  {
   "cell_type": "code",
   "execution_count": 40,
   "id": "4a8bdcc0",
   "metadata": {},
   "outputs": [],
   "source": [
    "data_umls=df_umls.drop_duplicates()"
   ]
  },
  {
   "cell_type": "code",
   "execution_count": 41,
   "id": "5ff59bc0",
   "metadata": {},
   "outputs": [
    {
     "name": "stdout",
     "output_type": "stream",
     "text": [
      "<class 'pandas.core.frame.DataFrame'>\n",
      "Index: 6085 entries, 0 to 12827\n",
      "Data columns (total 5 columns):\n",
      " #   Column             Non-Null Count  Dtype \n",
      "---  ------             --------------  ----- \n",
      " 0   Source node name   6085 non-null   object\n",
      " 1   Source node type   6085 non-null   object\n",
      " 2   Relationship type  6085 non-null   object\n",
      " 3   Target node type   6085 non-null   object\n",
      " 4   Target node name   6085 non-null   object\n",
      "dtypes: object(5)\n",
      "memory usage: 285.2+ KB\n"
     ]
    }
   ],
   "source": [
    "data_umls.info()"
   ]
  },
  {
   "cell_type": "code",
   "execution_count": 42,
   "id": "d5611716",
   "metadata": {},
   "outputs": [
    {
     "data": {
      "text/html": [
       "<div>\n",
       "<style scoped>\n",
       "    .dataframe tbody tr th:only-of-type {\n",
       "        vertical-align: middle;\n",
       "    }\n",
       "\n",
       "    .dataframe tbody tr th {\n",
       "        vertical-align: top;\n",
       "    }\n",
       "\n",
       "    .dataframe thead th {\n",
       "        text-align: right;\n",
       "    }\n",
       "</style>\n",
       "<table border=\"1\" class=\"dataframe\">\n",
       "  <thead>\n",
       "    <tr style=\"text-align: right;\">\n",
       "      <th></th>\n",
       "      <th>Source node name</th>\n",
       "      <th>Source node type</th>\n",
       "      <th>Relationship type</th>\n",
       "      <th>Target node type</th>\n",
       "      <th>Target node name</th>\n",
       "    </tr>\n",
       "  </thead>\n",
       "  <tbody>\n",
       "    <tr>\n",
       "      <th>0</th>\n",
       "      <td>DB02530</td>\n",
       "      <td>DRUG</td>\n",
       "      <td>TREAT</td>\n",
       "      <td>DISEASE</td>\n",
       "      <td>C0001768</td>\n",
       "    </tr>\n",
       "    <tr>\n",
       "      <th>2</th>\n",
       "      <td>DB02530</td>\n",
       "      <td>DRUG</td>\n",
       "      <td>TREAT</td>\n",
       "      <td>DISEASE</td>\n",
       "      <td>C0008049</td>\n",
       "    </tr>\n",
       "    <tr>\n",
       "      <th>4</th>\n",
       "      <td>DB02530</td>\n",
       "      <td>DRUG</td>\n",
       "      <td>TREAT</td>\n",
       "      <td>DISEASE</td>\n",
       "      <td>C0009447</td>\n",
       "    </tr>\n",
       "    <tr>\n",
       "      <th>6</th>\n",
       "      <td>DB02530</td>\n",
       "      <td>DRUG</td>\n",
       "      <td>TREAT</td>\n",
       "      <td>DISEASE</td>\n",
       "      <td>C0009450</td>\n",
       "    </tr>\n",
       "    <tr>\n",
       "      <th>8</th>\n",
       "      <td>DB02530</td>\n",
       "      <td>DRUG</td>\n",
       "      <td>TREAT</td>\n",
       "      <td>DISEASE</td>\n",
       "      <td>C0019158</td>\n",
       "    </tr>\n",
       "  </tbody>\n",
       "</table>\n",
       "</div>"
      ],
      "text/plain": [
       "  Source node name Source node type Relationship type Target node type  \\\n",
       "0          DB02530             DRUG             TREAT          DISEASE   \n",
       "2          DB02530             DRUG             TREAT          DISEASE   \n",
       "4          DB02530             DRUG             TREAT          DISEASE   \n",
       "6          DB02530             DRUG             TREAT          DISEASE   \n",
       "8          DB02530             DRUG             TREAT          DISEASE   \n",
       "\n",
       "  Target node name  \n",
       "0         C0001768  \n",
       "2         C0008049  \n",
       "4         C0009447  \n",
       "6         C0009450  \n",
       "8         C0019158  "
      ]
     },
     "execution_count": 42,
     "metadata": {},
     "output_type": "execute_result"
    }
   ],
   "source": [
    "data_umls.head()##dataset about Drug-Disease Interactions using UMLS"
   ]
  },
  {
   "cell_type": "code",
   "execution_count": 43,
   "id": "eb392b90",
   "metadata": {},
   "outputs": [
    {
     "name": "stdout",
     "output_type": "stream",
     "text": [
      "Number of unique values in the drug: 661\n",
      "Number of unique values in the disease: 1843\n"
     ]
    }
   ],
   "source": [
    "#check the numble of source node and target node\n",
    "unique_count_sd_umls= data_umls[\"Source node name\"].nunique()\n",
    "unique_count_tar_umls= data_umls[\"Target node name\"].nunique()\n",
    "print(\"Number of unique values in the drug:\", unique_count_sd_umls)\n",
    "print(\"Number of unique values in the disease:\", unique_count_tar_umls)"
   ]
  },
  {
   "cell_type": "code",
   "execution_count": 44,
   "id": "63f822c4",
   "metadata": {},
   "outputs": [],
   "source": [
    "# Export the final dataframe as a CSV file\n",
    "data_umls.to_csv('Drug_Disease.csv', index=False)"
   ]
  },
  {
   "cell_type": "code",
   "execution_count": 45,
   "id": "d33b1cb0",
   "metadata": {},
   "outputs": [],
   "source": [
    "##the former datasets are combined\n",
    "combined_df = pd.concat([unip_db, data_umls])"
   ]
  },
  {
   "cell_type": "code",
   "execution_count": 46,
   "id": "705cb4a8",
   "metadata": {},
   "outputs": [
    {
     "name": "stdout",
     "output_type": "stream",
     "text": [
      "<class 'pandas.core.frame.DataFrame'>\n",
      "Index: 27890 entries, 0 to 12827\n",
      "Data columns (total 5 columns):\n",
      " #   Column             Non-Null Count  Dtype \n",
      "---  ------             --------------  ----- \n",
      " 0   Source node name   27890 non-null  object\n",
      " 1   Source node type   27890 non-null  object\n",
      " 2   Relationship type  27890 non-null  object\n",
      " 3   Target node type   27890 non-null  object\n",
      " 4   Target node name   27890 non-null  object\n",
      "dtypes: object(5)\n",
      "memory usage: 1.3+ MB\n"
     ]
    }
   ],
   "source": [
    "combined_df.head()\n",
    "combined_df.info()"
   ]
  },
  {
   "cell_type": "code",
   "execution_count": 47,
   "id": "4cb6959b",
   "metadata": {},
   "outputs": [
    {
     "name": "stdout",
     "output_type": "stream",
     "text": [
      "<class 'pandas.core.frame.DataFrame'>\n",
      "Index: 27890 entries, 0 to 12827\n",
      "Data columns (total 5 columns):\n",
      " #   Column             Non-Null Count  Dtype \n",
      "---  ------             --------------  ----- \n",
      " 0   Source node name   27890 non-null  object\n",
      " 1   Source node type   27890 non-null  object\n",
      " 2   Relationship type  27890 non-null  object\n",
      " 3   Target node type   27890 non-null  object\n",
      " 4   Target node name   27890 non-null  object\n",
      "dtypes: object(5)\n",
      "memory usage: 1.3+ MB\n"
     ]
    }
   ],
   "source": [
    "##remove the repeated data\n",
    "df_unique = combined_df.drop_duplicates()\n",
    "df_unique.info()"
   ]
  },
  {
   "cell_type": "code",
   "execution_count": 48,
   "id": "75e5275b",
   "metadata": {},
   "outputs": [
    {
     "data": {
      "text/html": [
       "<div>\n",
       "<style scoped>\n",
       "    .dataframe tbody tr th:only-of-type {\n",
       "        vertical-align: middle;\n",
       "    }\n",
       "\n",
       "    .dataframe tbody tr th {\n",
       "        vertical-align: top;\n",
       "    }\n",
       "\n",
       "    .dataframe thead th {\n",
       "        text-align: right;\n",
       "    }\n",
       "</style>\n",
       "<table border=\"1\" class=\"dataframe\">\n",
       "  <thead>\n",
       "    <tr style=\"text-align: right;\">\n",
       "      <th></th>\n",
       "      <th>Source node name</th>\n",
       "      <th>Source node type</th>\n",
       "      <th>Relationship type</th>\n",
       "      <th>Target node type</th>\n",
       "      <th>Target node name</th>\n",
       "    </tr>\n",
       "  </thead>\n",
       "  <tbody>\n",
       "    <tr>\n",
       "      <th>0</th>\n",
       "      <td>DB00001</td>\n",
       "      <td>DRUG</td>\n",
       "      <td>DRUG_TARGETS</td>\n",
       "      <td>TARGET</td>\n",
       "      <td>P00734</td>\n",
       "    </tr>\n",
       "    <tr>\n",
       "      <th>1</th>\n",
       "      <td>DB00002</td>\n",
       "      <td>DRUG</td>\n",
       "      <td>DRUG_TARGETS</td>\n",
       "      <td>TARGET</td>\n",
       "      <td>P00533</td>\n",
       "    </tr>\n",
       "    <tr>\n",
       "      <th>2</th>\n",
       "      <td>DB00002</td>\n",
       "      <td>DRUG</td>\n",
       "      <td>DRUG_TARGETS</td>\n",
       "      <td>TARGET</td>\n",
       "      <td>O75015</td>\n",
       "    </tr>\n",
       "    <tr>\n",
       "      <th>3</th>\n",
       "      <td>DB00002</td>\n",
       "      <td>DRUG</td>\n",
       "      <td>DRUG_TARGETS</td>\n",
       "      <td>TARGET</td>\n",
       "      <td>P02745</td>\n",
       "    </tr>\n",
       "    <tr>\n",
       "      <th>4</th>\n",
       "      <td>DB00002</td>\n",
       "      <td>DRUG</td>\n",
       "      <td>DRUG_TARGETS</td>\n",
       "      <td>TARGET</td>\n",
       "      <td>P02746</td>\n",
       "    </tr>\n",
       "  </tbody>\n",
       "</table>\n",
       "</div>"
      ],
      "text/plain": [
       "  Source node name Source node type Relationship type Target node type  \\\n",
       "0          DB00001             DRUG      DRUG_TARGETS           TARGET   \n",
       "1          DB00002             DRUG      DRUG_TARGETS           TARGET   \n",
       "2          DB00002             DRUG      DRUG_TARGETS           TARGET   \n",
       "3          DB00002             DRUG      DRUG_TARGETS           TARGET   \n",
       "4          DB00002             DRUG      DRUG_TARGETS           TARGET   \n",
       "\n",
       "  Target node name  \n",
       "0           P00734  \n",
       "1           P00533  \n",
       "2           O75015  \n",
       "3           P02745  \n",
       "4           P02746  "
      ]
     },
     "execution_count": 48,
     "metadata": {},
     "output_type": "execute_result"
    }
   ],
   "source": [
    "df_unique.head()"
   ]
  },
  {
   "cell_type": "code",
   "execution_count": 49,
   "id": "108dc543",
   "metadata": {},
   "outputs": [
    {
     "name": "stdout",
     "output_type": "stream",
     "text": [
      "Number of unique values in the drug: 7838\n",
      "Number of unique values in the target: 6759\n"
     ]
    }
   ],
   "source": [
    "#check the numble of source node and target node\n",
    "unique_count_drug= df_unique[\"Source node name\"].nunique()\n",
    "unique_count_total_tar= df_unique[\"Target node name\"].nunique()\n",
    "print(\"Number of unique values in the drug:\",unique_count_drug)\n",
    "print(\"Number of unique values in the target:\", unique_count_total_tar)"
   ]
  },
  {
   "cell_type": "code",
   "execution_count": 50,
   "id": "c066f031",
   "metadata": {},
   "outputs": [],
   "source": [
    "#Export the final dataframe as a CSV file\n",
    "df_unique.to_csv('data_0.csv', index=False)"
   ]
  },
  {
   "cell_type": "code",
   "execution_count": 51,
   "id": "622f2c87",
   "metadata": {},
   "outputs": [
    {
     "name": "stdout",
     "output_type": "stream",
     "text": [
      "                  0         1               2  \\\n",
      "1646   CID100001206  C0041671    text_mention   \n",
      "6736   CID100002803  C1263846  NLP_indication   \n",
      "6737   CID100002803  C1263846  NLP_indication   \n",
      "7716   CID100003007  C0041671    text_mention   \n",
      "7731   CID100003007  C1263846  NLP_indication   \n",
      "7732   CID100003007  C1263846  NLP_indication   \n",
      "10988  CID100003519  C1263846  NLP_indication   \n",
      "10989  CID100003519  C1263846  NLP_indication   \n",
      "13953  CID100004158  C0041671    text_mention   \n",
      "13976  CID100004158  C1263846  NLP_indication   \n",
      "13977  CID100004158  C1263846  NLP_indication   \n",
      "24166  CID100054840  C0041671  NLP_indication   \n",
      "24176  CID100054840  C1263846  NLP_indication   \n",
      "24177  CID100054840  C1263846  NLP_indication   \n",
      "29203  CID111597697  C0041671  NLP_indication   \n",
      "29209  CID111597697  C1263846  NLP_indication   \n",
      "29210  CID111597697  C1263846  NLP_indication   \n",
      "\n",
      "                                              3    4         5  \\\n",
      "1646                 Attention Deficit Disorder   PT  C1263846   \n",
      "6736   Attention deficit hyperactivity disorder  LLT  C1263846   \n",
      "6737   Attention deficit hyperactivity disorder   PT  C1263846   \n",
      "7716                 Attention Deficit Disorder   PT  C1263846   \n",
      "7731   Attention deficit hyperactivity disorder  LLT  C1263846   \n",
      "7732   Attention deficit hyperactivity disorder   PT  C1263846   \n",
      "10988  Attention deficit hyperactivity disorder  LLT  C1263846   \n",
      "10989  Attention deficit hyperactivity disorder   PT  C1263846   \n",
      "13953                Attention Deficit Disorder   PT  C1263846   \n",
      "13976  Attention deficit hyperactivity disorder  LLT  C1263846   \n",
      "13977  Attention deficit hyperactivity disorder   PT  C1263846   \n",
      "24166                Attention Deficit Disorder   PT  C1263846   \n",
      "24176  Attention deficit hyperactivity disorder  LLT  C1263846   \n",
      "24177  Attention deficit hyperactivity disorder   PT  C1263846   \n",
      "29203                Attention Deficit Disorder   PT  C1263846   \n",
      "29209  Attention deficit hyperactivity disorder  LLT  C1263846   \n",
      "29210  Attention deficit hyperactivity disorder   PT  C1263846   \n",
      "\n",
      "                                              6  \n",
      "1646   Attention deficit/hyperactivity disorder  \n",
      "6736   Attention deficit/hyperactivity disorder  \n",
      "6737   Attention deficit/hyperactivity disorder  \n",
      "7716   Attention deficit/hyperactivity disorder  \n",
      "7731   Attention deficit/hyperactivity disorder  \n",
      "7732   Attention deficit/hyperactivity disorder  \n",
      "10988  Attention deficit/hyperactivity disorder  \n",
      "10989  Attention deficit/hyperactivity disorder  \n",
      "13953  Attention deficit/hyperactivity disorder  \n",
      "13976  Attention deficit/hyperactivity disorder  \n",
      "13977  Attention deficit/hyperactivity disorder  \n",
      "24166  Attention deficit/hyperactivity disorder  \n",
      "24176  Attention deficit/hyperactivity disorder  \n",
      "24177  Attention deficit/hyperactivity disorder  \n",
      "29203  Attention deficit/hyperactivity disorder  \n",
      "29209  Attention deficit/hyperactivity disorder  \n",
      "29210  Attention deficit/hyperactivity disorder  \n"
     ]
    }
   ],
   "source": [
    "##check the information of the disease ADHD\n",
    "rows=umls[umls[6]=='Attention deficit/hyperactivity disorder']\n",
    "print(rows)"
   ]
  },
  {
   "cell_type": "code",
   "execution_count": 52,
   "id": "4f94e74a",
   "metadata": {},
   "outputs": [
    {
     "name": "stdout",
     "output_type": "stream",
     "text": [
      "[True, True, True, True, True, True, True, True, True, True, True, True, True, True, True, True, True, True, True, True, True, True, True, True]\n"
     ]
    }
   ],
   "source": [
    "# Create an empty list to store the results\n",
    "result_list = []\n",
    "\n",
    "#Create an list to store the uniprot id of ADHD\n",
    "ADHD_list = ['P34972'\n",
    ",'P00742'\n",
    ",'P35367'\n",
    ",'P08908'\n",
    ",'P28222'\n",
    ",'P41595'\n",
    ",'P28335'\n",
    ",'P35462'\n",
    ",'P21917'\n",
    ",'P08173'\n",
    ",'P31645'\n",
    ",'P08913'\n",
    ",'Q01959'\n",
    ",'P36544'\n",
    ",'P23975'\n",
    ",'P35368'\n",
    ",'Q8TDV5'\n",
    ",'Q96RJ0'\n",
    ",'Q9Y2T6'\n",
    ",'P08912'\n",
    ",'P43681'\n",
    ",'P17787'\n",
    ",'Q9Y5N1'\n",
    ",'P34969']\n",
    "\n",
    "# Loop through the elements in ADHD_list\n",
    "for element in ADHD_list:\n",
    "    # Use the isin method to check if the element exists in any column of the DataFrame\n",
    "    if df_unique.isin([element]).any().any():\n",
    "        result_list.append(True)\n",
    "    else:\n",
    "        result_list.append(False)\n",
    "\n",
    "print(result_list)"
   ]
  },
  {
   "cell_type": "code",
   "execution_count": 53,
   "id": "eee64230",
   "metadata": {},
   "outputs": [
    {
     "data": {
      "text/html": [
       "<div>\n",
       "<style scoped>\n",
       "    .dataframe tbody tr th:only-of-type {\n",
       "        vertical-align: middle;\n",
       "    }\n",
       "\n",
       "    .dataframe tbody tr th {\n",
       "        vertical-align: top;\n",
       "    }\n",
       "\n",
       "    .dataframe thead th {\n",
       "        text-align: right;\n",
       "    }\n",
       "</style>\n",
       "<table border=\"1\" class=\"dataframe\">\n",
       "  <thead>\n",
       "    <tr style=\"text-align: right;\">\n",
       "      <th></th>\n",
       "      <th>Source node name</th>\n",
       "      <th>Source node type</th>\n",
       "      <th>Relationship type</th>\n",
       "      <th>Target node type</th>\n",
       "      <th>Target node name</th>\n",
       "    </tr>\n",
       "  </thead>\n",
       "  <tbody>\n",
       "    <tr>\n",
       "      <th>0</th>\n",
       "      <td>DB00001</td>\n",
       "      <td>DRUG</td>\n",
       "      <td>DRUG_TARGETS</td>\n",
       "      <td>TARGET</td>\n",
       "      <td>P00734</td>\n",
       "    </tr>\n",
       "    <tr>\n",
       "      <th>1</th>\n",
       "      <td>DB00002</td>\n",
       "      <td>DRUG</td>\n",
       "      <td>DRUG_TARGETS</td>\n",
       "      <td>TARGET</td>\n",
       "      <td>P00533</td>\n",
       "    </tr>\n",
       "    <tr>\n",
       "      <th>2</th>\n",
       "      <td>DB00002</td>\n",
       "      <td>DRUG</td>\n",
       "      <td>DRUG_TARGETS</td>\n",
       "      <td>TARGET</td>\n",
       "      <td>O75015</td>\n",
       "    </tr>\n",
       "    <tr>\n",
       "      <th>3</th>\n",
       "      <td>DB00002</td>\n",
       "      <td>DRUG</td>\n",
       "      <td>DRUG_TARGETS</td>\n",
       "      <td>TARGET</td>\n",
       "      <td>P02745</td>\n",
       "    </tr>\n",
       "    <tr>\n",
       "      <th>4</th>\n",
       "      <td>DB00002</td>\n",
       "      <td>DRUG</td>\n",
       "      <td>DRUG_TARGETS</td>\n",
       "      <td>TARGET</td>\n",
       "      <td>P02746</td>\n",
       "    </tr>\n",
       "  </tbody>\n",
       "</table>\n",
       "</div>"
      ],
      "text/plain": [
       "  Source node name Source node type Relationship type Target node type  \\\n",
       "0          DB00001             DRUG      DRUG_TARGETS           TARGET   \n",
       "1          DB00002             DRUG      DRUG_TARGETS           TARGET   \n",
       "2          DB00002             DRUG      DRUG_TARGETS           TARGET   \n",
       "3          DB00002             DRUG      DRUG_TARGETS           TARGET   \n",
       "4          DB00002             DRUG      DRUG_TARGETS           TARGET   \n",
       "\n",
       "  Target node name  \n",
       "0           P00734  \n",
       "1           P00533  \n",
       "2           O75015  \n",
       "3           P02745  \n",
       "4           P02746  "
      ]
     },
     "execution_count": 53,
     "metadata": {},
     "output_type": "execute_result"
    }
   ],
   "source": [
    "data_11=pd.read_csv(\"data_0.csv\")\n",
    "data_11.head()"
   ]
  },
  {
   "cell_type": "code",
   "execution_count": 54,
   "id": "17db25df",
   "metadata": {},
   "outputs": [],
   "source": [
    "# Define the condition for which elements in 'Target node name' should be replaced\n",
    "condition = data_11['Target node name'].isin(ADHD_list)  # Replace elements in ADHD_list into the 'P34972'\n",
    "# Replace the values in the 'Target node name' column of my_dataframe that meet the condition with the 'P34972'\n",
    "data_11.loc[condition, 'Target node name'] ='P34972'\n"
   ]
  },
  {
   "cell_type": "code",
   "execution_count": 55,
   "id": "8e85e978",
   "metadata": {},
   "outputs": [
    {
     "name": "stdout",
     "output_type": "stream",
     "text": [
      "      Source node name Source node type Relationship type Target node type  \\\n",
      "61             DB00025             DRUG      DRUG_TARGETS           TARGET   \n",
      "113            DB00036             DRUG      DRUG_TARGETS           TARGET   \n",
      "234            DB00100             DRUG      DRUG_TARGETS           TARGET   \n",
      "403            DB00122             DRUG      DRUG_TARGETS           TARGET   \n",
      "1067           DB00176             DRUG      DRUG_TARGETS           TARGET   \n",
      "...                ...              ...               ...              ...   \n",
      "21704          DB16321             DRUG      DRUG_TARGETS           TARGET   \n",
      "21740          DB16629             DRUG      DRUG_TARGETS           TARGET   \n",
      "21741          DB16629             DRUG      DRUG_TARGETS           TARGET   \n",
      "21742          DB16629             DRUG      DRUG_TARGETS           TARGET   \n",
      "21802          DB17087             DRUG      DRUG_TARGETS           TARGET   \n",
      "\n",
      "      Target node name  \n",
      "61              P34972  \n",
      "113             P34972  \n",
      "234             P34972  \n",
      "403             P34972  \n",
      "1067            P34972  \n",
      "...                ...  \n",
      "21704           P34972  \n",
      "21740           P34972  \n",
      "21741           P34972  \n",
      "21742           P34972  \n",
      "21802           P34972  \n",
      "\n",
      "[1197 rows x 5 columns]\n"
     ]
    }
   ],
   "source": [
    "##check the result after replacing\n",
    "rowsw=data_11[data_11['Target node name']=='P34972']\n",
    "print(rowsw)"
   ]
  },
  {
   "cell_type": "code",
   "execution_count": 56,
   "id": "babe33fa",
   "metadata": {},
   "outputs": [],
   "source": [
    "##export the dataset\n",
    "data_11.to_csv('data_2.csv', index=False)"
   ]
  },
  {
   "cell_type": "code",
   "execution_count": 57,
   "id": "3c734d56",
   "metadata": {},
   "outputs": [],
   "source": [
    "##creat a drug_list about ADHD\n",
    "drug_list=['DB00752', 'DB01062', 'DB00927', 'DB00152', 'DB01043', 'DB01148', 'DB01595', 'DB01233', 'DB04843', 'DB00280', 'DB00561', 'DB00831', 'DB01356', 'DB00850', 'DB00165', 'DB00404', 'DB01050', 'DB00338', 'DB00489', 'DB00313', 'DB00829', 'DB00316', 'DB00804', 'DB08906', 'DB01182', 'DB00843', 'DB00842', 'DB00813', 'DB00822', 'DB00450', 'DB00533', 'DB00716', 'DB01558', 'DB00264', 'DB01247']"
   ]
  },
  {
   "cell_type": "code",
   "execution_count": 58,
   "id": "065a22c6",
   "metadata": {},
   "outputs": [],
   "source": [
    "##create the table Drugs’ name corresponding to the Drugbank ID\n",
    "##export the table\n",
    "filtered_rows = uniprot[uniprot['DrugBank ID'].isin(drug_list)]\n",
    "drug_adhd=filtered_rows.iloc[:, :2].drop_duplicates()\n",
    "drug_adhd.to_csv('drug_adhd.csv', index=False)"
   ]
  },
  {
   "cell_type": "code",
   "execution_count": 59,
   "id": "805f337c",
   "metadata": {},
   "outputs": [],
   "source": [
    "##create the newdatset\n",
    "data_1=df_unique.copy()"
   ]
  },
  {
   "cell_type": "code",
   "execution_count": 60,
   "id": "34ef4666",
   "metadata": {},
   "outputs": [],
   "source": [
    "# Replace elements into the same\n",
    "data_1['Target node name'] =data_1['Target node name'].replace('C0041671', 'C1263846')"
   ]
  },
  {
   "cell_type": "code",
   "execution_count": 61,
   "id": "fd5f5333",
   "metadata": {},
   "outputs": [
    {
     "name": "stdout",
     "output_type": "stream",
     "text": [
      "     Source node name Source node type Relationship type Target node type  \\\n",
      "3060          DB00575             DRUG             TREAT          DISEASE   \n",
      "3385          DB00182             DRUG             TREAT          DISEASE   \n",
      "3401          DB00182             DRUG             TREAT          DISEASE   \n",
      "5192          DB01018             DRUG             TREAT          DISEASE   \n",
      "6713          DB00422             DRUG             TREAT          DISEASE   \n",
      "6737          DB00422             DRUG             TREAT          DISEASE   \n",
      "\n",
      "     Target node name  \n",
      "3060         C1263846  \n",
      "3385         C1263846  \n",
      "3401         C1263846  \n",
      "5192         C1263846  \n",
      "6713         C1263846  \n",
      "6737         C1263846  \n"
     ]
    }
   ],
   "source": [
    "##check the condition\n",
    "rowsw=data_1[data_1['Target node name']=='C1263846']\n",
    "print(rowsw)"
   ]
  },
  {
   "cell_type": "code",
   "execution_count": 62,
   "id": "0927d6cd",
   "metadata": {},
   "outputs": [
    {
     "data": {
      "text/html": [
       "<div>\n",
       "<style scoped>\n",
       "    .dataframe tbody tr th:only-of-type {\n",
       "        vertical-align: middle;\n",
       "    }\n",
       "\n",
       "    .dataframe tbody tr th {\n",
       "        vertical-align: top;\n",
       "    }\n",
       "\n",
       "    .dataframe thead th {\n",
       "        text-align: right;\n",
       "    }\n",
       "</style>\n",
       "<table border=\"1\" class=\"dataframe\">\n",
       "  <thead>\n",
       "    <tr style=\"text-align: right;\">\n",
       "      <th></th>\n",
       "      <th>Source node name</th>\n",
       "      <th>Source node type</th>\n",
       "      <th>Relationship type</th>\n",
       "      <th>Target node type</th>\n",
       "      <th>Target node name</th>\n",
       "    </tr>\n",
       "  </thead>\n",
       "  <tbody>\n",
       "    <tr>\n",
       "      <th>3060</th>\n",
       "      <td>DB00575</td>\n",
       "      <td>DRUG</td>\n",
       "      <td>TREAT</td>\n",
       "      <td>DISEASE</td>\n",
       "      <td>C1263846</td>\n",
       "    </tr>\n",
       "    <tr>\n",
       "      <th>3385</th>\n",
       "      <td>DB00182</td>\n",
       "      <td>DRUG</td>\n",
       "      <td>TREAT</td>\n",
       "      <td>DISEASE</td>\n",
       "      <td>C1263846</td>\n",
       "    </tr>\n",
       "    <tr>\n",
       "      <th>3401</th>\n",
       "      <td>DB00182</td>\n",
       "      <td>DRUG</td>\n",
       "      <td>TREAT</td>\n",
       "      <td>DISEASE</td>\n",
       "      <td>C1263846</td>\n",
       "    </tr>\n",
       "    <tr>\n",
       "      <th>5192</th>\n",
       "      <td>DB01018</td>\n",
       "      <td>DRUG</td>\n",
       "      <td>TREAT</td>\n",
       "      <td>DISEASE</td>\n",
       "      <td>C1263846</td>\n",
       "    </tr>\n",
       "    <tr>\n",
       "      <th>6713</th>\n",
       "      <td>DB00422</td>\n",
       "      <td>DRUG</td>\n",
       "      <td>TREAT</td>\n",
       "      <td>DISEASE</td>\n",
       "      <td>C1263846</td>\n",
       "    </tr>\n",
       "    <tr>\n",
       "      <th>6737</th>\n",
       "      <td>DB00422</td>\n",
       "      <td>DRUG</td>\n",
       "      <td>TREAT</td>\n",
       "      <td>DISEASE</td>\n",
       "      <td>C1263846</td>\n",
       "    </tr>\n",
       "  </tbody>\n",
       "</table>\n",
       "</div>"
      ],
      "text/plain": [
       "     Source node name Source node type Relationship type Target node type  \\\n",
       "3060          DB00575             DRUG             TREAT          DISEASE   \n",
       "3385          DB00182             DRUG             TREAT          DISEASE   \n",
       "3401          DB00182             DRUG             TREAT          DISEASE   \n",
       "5192          DB01018             DRUG             TREAT          DISEASE   \n",
       "6713          DB00422             DRUG             TREAT          DISEASE   \n",
       "6737          DB00422             DRUG             TREAT          DISEASE   \n",
       "\n",
       "     Target node name  \n",
       "3060         C1263846  \n",
       "3385         C1263846  \n",
       "3401         C1263846  \n",
       "5192         C1263846  \n",
       "6713         C1263846  \n",
       "6737         C1263846  "
      ]
     },
     "execution_count": 62,
     "metadata": {},
     "output_type": "execute_result"
    }
   ],
   "source": [
    "data_1[data_1['Target node name']=='C1263846']"
   ]
  },
  {
   "cell_type": "code",
   "execution_count": 63,
   "id": "ffae6b9d",
   "metadata": {},
   "outputs": [],
   "source": [
    "#Export the final dataframe as a CSV file\n",
    "data_1.to_csv('data_1.csv', index=False)"
   ]
  },
  {
   "cell_type": "code",
   "execution_count": 64,
   "id": "d79ffda3",
   "metadata": {},
   "outputs": [
    {
     "name": "stdout",
     "output_type": "stream",
     "text": [
      "<class 'pandas.core.frame.DataFrame'>\n",
      "Index: 21925 entries, 0 to 12827\n",
      "Data columns (total 5 columns):\n",
      " #   Column             Non-Null Count  Dtype \n",
      "---  ------             --------------  ----- \n",
      " 0   Source node name   21925 non-null  object\n",
      " 1   Source node type   21925 non-null  object\n",
      " 2   Relationship type  21925 non-null  object\n",
      " 3   Target node type   21925 non-null  object\n",
      " 4   Target node name   21925 non-null  object\n",
      "dtypes: object(5)\n",
      "memory usage: 1.0+ MB\n"
     ]
    }
   ],
   "source": [
    "##history validation\n",
    "##datasets are combined\n",
    "combined_df_16 = pd.concat([unip_db_16, data_umls])\n",
    "combined_df_16.info()"
   ]
  },
  {
   "cell_type": "code",
   "execution_count": 65,
   "id": "9413c0cf",
   "metadata": {},
   "outputs": [
    {
     "name": "stdout",
     "output_type": "stream",
     "text": [
      "<class 'pandas.core.frame.DataFrame'>\n",
      "Index: 21925 entries, 0 to 12827\n",
      "Data columns (total 5 columns):\n",
      " #   Column             Non-Null Count  Dtype \n",
      "---  ------             --------------  ----- \n",
      " 0   Source node name   21925 non-null  object\n",
      " 1   Source node type   21925 non-null  object\n",
      " 2   Relationship type  21925 non-null  object\n",
      " 3   Target node type   21925 non-null  object\n",
      " 4   Target node name   21925 non-null  object\n",
      "dtypes: object(5)\n",
      "memory usage: 1.0+ MB\n"
     ]
    }
   ],
   "source": [
    "##remove the repeated data\n",
    "df_unique_16 = combined_df_16.drop_duplicates()\n",
    "df_unique_16.info()"
   ]
  },
  {
   "cell_type": "code",
   "execution_count": 66,
   "id": "945b1b88",
   "metadata": {},
   "outputs": [
    {
     "name": "stdout",
     "output_type": "stream",
     "text": [
      "Number of unique values in the drug: 6758\n",
      "Number of unique values in the target: 5926\n"
     ]
    }
   ],
   "source": [
    "#check the numble of source node and target node\n",
    "unique_count_drug_16= df_unique_16[\"Source node name\"].nunique()\n",
    "unique_count_total_tar_16= df_unique_16[\"Target node name\"].nunique()\n",
    "print(\"Number of unique values in the drug:\",unique_count_drug_16)\n",
    "print(\"Number of unique values in the target:\", unique_count_total_tar_16)"
   ]
  },
  {
   "cell_type": "code",
   "execution_count": 67,
   "id": "45ace75f",
   "metadata": {},
   "outputs": [
    {
     "name": "stdout",
     "output_type": "stream",
     "text": [
      "[True, True, True, True, True, True, True, True, True, True, True, True, True, True, True, True, True, True, False, True, True, True, True, True]\n"
     ]
    }
   ],
   "source": [
    "# Create an empty list to store the results\n",
    "result_list_16 = []\n",
    "\n",
    "#Create an list to store the uniprot id of ADHD\n",
    "ADHD_list = ['P34972'\n",
    ",'P00742'\n",
    ",'P35367'\n",
    ",'P08908'\n",
    ",'P28222'\n",
    ",'P41595'\n",
    ",'P28335'\n",
    ",'P35462'\n",
    ",'P21917'\n",
    ",'P08173'\n",
    ",'P31645'\n",
    ",'P08913'\n",
    ",'Q01959'\n",
    ",'P36544'\n",
    ",'P23975'\n",
    ",'P35368'\n",
    ",'Q8TDV5'\n",
    ",'Q96RJ0'\n",
    ",'Q9Y2T6'\n",
    ",'P08912'\n",
    ",'P43681'\n",
    ",'P17787'\n",
    ",'Q9Y5N1'\n",
    ",'P34969']\n",
    "\n",
    "# Loop through the elements in ADHD_list\n",
    "for element in ADHD_list:\n",
    "    # Use the isin method to check if the element exists in any column of the DataFrame\n",
    "    if df_unique_16.isin([element]).any().any():\n",
    "        result_list_16.append(True)\n",
    "    else:\n",
    "        result_list_16.append(False)\n",
    "\n",
    "print(result_list_16)"
   ]
  },
  {
   "cell_type": "code",
   "execution_count": 68,
   "id": "21844273",
   "metadata": {},
   "outputs": [],
   "source": [
    "##create the table using old data\n",
    "data_16=df_unique_16.copy()"
   ]
  },
  {
   "cell_type": "code",
   "execution_count": 69,
   "id": "4700663c",
   "metadata": {},
   "outputs": [],
   "source": [
    "# Define the condition for which elements in 'Target node name' should be replaced\n",
    "condition = data_16['Target node name'].isin(ADHD_list)  # Replace elements in ADHD_list into the 'P34972'\n",
    "# Replace the values in the 'Target node name' column of my_dataframe that meet the condition with the 'P34972'\n",
    "data_16.loc[condition, 'Target node name'] ='P34972'\n"
   ]
  },
  {
   "cell_type": "code",
   "execution_count": 70,
   "id": "b121e477",
   "metadata": {},
   "outputs": [],
   "source": [
    "data_16.to_csv('data_16.csv', index=False)"
   ]
  },
  {
   "cell_type": "code",
   "execution_count": 71,
   "id": "c769daf2",
   "metadata": {},
   "outputs": [],
   "source": [
    "##creat a drug_list about ADHD\n",
    "drug_list_16=['DB01064', 'DB00752', 'DB01062', 'DB00202', 'DB01148', 'DB01233', 'DB04843', 'DB00280', 'DB00564', 'DB00831', 'DB01356', 'DB00850', 'DB00623', 'DB00404', 'DB00927', 'DB00489', 'DB00313', 'DB00829', 'DB01043', 'DB00804', 'DB08906', 'DB00843', 'DB00450', 'DB01247', 'DB00433']"
   ]
  },
  {
   "cell_type": "code",
   "execution_count": 72,
   "id": "05909c38",
   "metadata": {},
   "outputs": [],
   "source": [
    "##create the table Drugs’ name corresponding to the Drugbank ID\n",
    "##export the table\n",
    "filtered_rows_16 = uniprot[uniprot['DrugBank ID'].isin(drug_list_16)]\n",
    "drug_adhd_16=filtered_rows_16.iloc[:, :2].drop_duplicates()\n",
    "drug_adhd_16.to_csv('drug_adhd_16.csv', index=False)"
   ]
  },
  {
   "cell_type": "code",
   "execution_count": null,
   "id": "24c6dc38",
   "metadata": {},
   "outputs": [],
   "source": []
  }
 ],
 "metadata": {
  "kernelspec": {
   "display_name": "Python 3 (ipykernel)",
   "language": "python",
   "name": "python3"
  },
  "language_info": {
   "codemirror_mode": {
    "name": "ipython",
    "version": 3
   },
   "file_extension": ".py",
   "mimetype": "text/x-python",
   "name": "python",
   "nbconvert_exporter": "python",
   "pygments_lexer": "ipython3",
   "version": "3.9.12"
  }
 },
 "nbformat": 4,
 "nbformat_minor": 5
}
